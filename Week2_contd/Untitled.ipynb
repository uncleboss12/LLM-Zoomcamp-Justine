{
 "cells": [
  {
   "cell_type": "code",
   "execution_count": 1,
   "id": "bcd91753-1059-4bb2-8e01-cd6c34bd2486",
   "metadata": {},
   "outputs": [
    {
     "name": "stdout",
     "output_type": "stream",
     "text": [
      "--2024-07-08 02:01:22--  https://raw.githubusercontent.com/uncleboss12/llm-zoomcamp/main/02-open-source/starter.ipynb\n",
      "Resolving raw.githubusercontent.com (raw.githubusercontent.com)... 185.199.109.133, 185.199.110.133, 185.199.111.133, ...\n",
      "Connecting to raw.githubusercontent.com (raw.githubusercontent.com)|185.199.109.133|:443... connected.\n",
      "HTTP request sent, awaiting response... 200 OK\n",
      "Length: 4810 (4.7K) [text/plain]\n",
      "Saving to: ‘starter.ipynb’\n",
      "\n",
      "starter.ipynb       100%[===================>]   4.70K  --.-KB/s    in 0s      \n",
      "\n",
      "2024-07-08 02:01:22 (40.7 MB/s) - ‘starter.ipynb’ saved [4810/4810]\n",
      "\n"
     ]
    }
   ],
   "source": [
    "!wget https://raw.githubusercontent.com/uncleboss12/llm-zoomcamp/main/02-open-source/starter.ipynb"
   ]
  },
  {
   "cell_type": "code",
   "execution_count": null,
   "id": "879d9130-11e6-4a06-b310-3368cd833fd2",
   "metadata": {},
   "outputs": [],
   "source": []
  }
 ],
 "metadata": {
  "kernelspec": {
   "display_name": "Python 3 (ipykernel)",
   "language": "python",
   "name": "python3"
  },
  "language_info": {
   "codemirror_mode": {
    "name": "ipython",
    "version": 3
   },
   "file_extension": ".py",
   "mimetype": "text/x-python",
   "name": "python",
   "nbconvert_exporter": "python",
   "pygments_lexer": "ipython3",
   "version": "3.10.13"
  }
 },
 "nbformat": 4,
 "nbformat_minor": 5
}
